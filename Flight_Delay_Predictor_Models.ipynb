{
 "cells": [
  {
   "cell_type": "markdown",
   "metadata": {},
   "source": [
    "### Models"
   ]
  },
  {
   "cell_type": "code",
   "execution_count": 12,
   "metadata": {},
   "outputs": [],
   "source": [
    "import os\n",
    "import pandas as pd\n",
    "import numpy as np\n",
    "import pickle\n",
    "import warnings\n",
    "warnings.filterwarnings('ignore')\n",
    "\n",
    "from sklearn.model_selection import train_test_split\n",
    "from sklearn.ensemble import RandomForestClassifier\n",
    "from sklearn.metrics import accuracy_score\n",
    "from sklearn.model_selection import KFold\n",
    "from sklearn.svm import SVC\n",
    "from sklearn.ensemble import AdaBoostClassifier\n",
    "from sklearn.multiclass import OneVsRestClassifier\n",
    "from sklearn.ensemble import BaggingClassifier\n",
    "from sklearn.metrics import precision_recall_fscore_support\n",
    "import time"
   ]
  },
  {
   "cell_type": "code",
   "execution_count": 11,
   "metadata": {},
   "outputs": [
    {
     "name": "stdout",
     "output_type": "stream",
     "text": [
      "(58866, 10)\n",
      "(58866,)\n"
     ]
    }
   ],
   "source": [
    "Delta_master = pd.read_csv('Delta_master4.csv')\n",
    "Y = Delta_master['ARR_DEL15']\n",
    "X_df = Delta_master.drop(Delta_master.columns[[11,12,10]], axis=1)\n",
    "X_df.info\n",
    "X = X_df.values"
   ]
  },
  {
   "cell_type": "code",
   "execution_count": 13,
   "metadata": {},
   "outputs": [],
   "source": [
    "train_x, test_x, train_y, test_y = train_test_split(X, Y, test_size=0.3)"
   ]
  },
  {
   "cell_type": "code",
   "execution_count": 15,
   "metadata": {},
   "outputs": [
    {
     "name": "stdout",
     "output_type": "stream",
     "text": [
      "MODEL 1 - Adaboost Classifier\n",
      "Running time = 19.06182312965393\n",
      "score = 0.9327293318233295\n",
      "error_model_1 = 0.06727066817667049\n",
      "Weighted:  (0.9314832671585184, 0.9327293318233295, 0.9309341051787767, None)\n",
      "Unweighted:  (0.9192498440669306, 0.8767117833996054, 0.8956843020051449, None)\n"
     ]
    }
   ],
   "source": [
    "#\"MODEL 1 - Adaboost Classifier\"\n",
    "\n",
    "clf_forest = RandomForestClassifier()\n",
    "clf_AdaForest = AdaBoostClassifier(n_estimators=50, base_estimator=clf_forest,learning_rate=0.5)\n",
    "\n",
    "start = time.time()\n",
    "clf_AdaForest.fit(train_x, train_y)\n",
    "prediction1 = np.array(clf_AdaForest.predict(test_x))\n",
    "end = time.time()\n",
    "\n",
    "print(\"MODEL 1 - Adaboost Classifier\")\n",
    "print(\"Running time =\", end - start)\n",
    "score = accuracy_score(test_y, prediction1)\n",
    "print(\"score =\", score)\n",
    "error_model_1 = np.array(1-score)\n",
    "print(\"error_model_1 =\", error_model_1)\n",
    "print(\"Weighted: \",precision_recall_fscore_support(test_y, prediction1, average = 'weighted' ))\n",
    "print(\"Unweighted: \",precision_recall_fscore_support(test_y, prediction1, average = 'macro' ))"
   ]
  },
  {
   "cell_type": "code",
   "execution_count": 18,
   "metadata": {},
   "outputs": [
    {
     "name": "stdout",
     "output_type": "stream",
     "text": [
      "MODEL 2 - Random Forest Classifier\n",
      "Running time = 0.2846801280975342\n",
      "score = 0.9330124575311438\n",
      "error_model_2 =  0.06698754246885619\n",
      "Weighted:  (0.931700827097079, 0.9330124575311438, 0.9314500781800343, None)\n",
      "Unweighted:  (0.9171391118346331, 0.8799213332629853, 0.8967590209250251, None)\n"
     ]
    }
   ],
   "source": [
    "#\"MODEL 2 - Random Forest Classifier\"\n",
    "\n",
    "start = time.time()\n",
    "clf = RandomForestClassifier(min_samples_leaf=20)\n",
    "clf.fit(train_x, train_y)\n",
    "prediction2 = np.array(clf.predict(test_x))\n",
    "end = time.time()\n",
    "\n",
    "print(\"MODEL 2 - Random Forest Classifier\")\n",
    "print(\"Running time =\", end - start)\n",
    "score = accuracy_score(test_y, prediction2)\n",
    "print(\"score =\", score)\n",
    "error_model_2 = 1-score\n",
    "print (\"error_model_2 = \", error_model_2)\n",
    "print(\"Weighted: \",precision_recall_fscore_support(test_y, prediction2, average = 'weighted' ))\n",
    "print(\"Unweighted: \",precision_recall_fscore_support(test_y, prediction2, average = 'macro' ))"
   ]
  },
  {
   "cell_type": "code",
   "execution_count": 19,
   "metadata": {},
   "outputs": [
    {
     "name": "stdout",
     "output_type": "stream",
     "text": [
      "MODEL 3 - SVM with OneVsRestClassifier\n",
      "Running time = 82.89276790618896\n",
      "score = 0.9113816534541337\n",
      "error_model_3 = 0.08861834654586631\n",
      "Weighted:  (0.919858618529624, 0.9113816534541337, 0.9139194531404988, None)\n",
      "Unweighted:  (0.8584343578451367, 0.9020856521061298, 0.8771415572515546, None)\n"
     ]
    }
   ],
   "source": [
    "#\"MODEL 3 - SVM with OneVsRestClassifier\"\n",
    "\n",
    "n_estimators = 10\n",
    "\n",
    "start = time.time()\n",
    "clf = OneVsRestClassifier(BaggingClassifier(SVC(kernel='linear', probability=True, class_weight='balanced'), max_samples=1.0 / n_estimators, n_estimators=n_estimators))\n",
    "clf.fit(train_x, train_y)\n",
    "prediction3 = np.array(clf.predict(test_x))\n",
    "end = time.time()\n",
    "\n",
    "print(\"MODEL 3 - SVM with OneVsRestClassifier\")\n",
    "print(\"Running time =\", end - start)\n",
    "score = accuracy_score(test_y, prediction3)\n",
    "print (\"score =\", score)\n",
    "error_model_3 = 1-score\n",
    "print(\"error_model_3 =\",error_model_3)\n",
    "print(\"Weighted: \",precision_recall_fscore_support(test_y, prediction3, average = 'weighted' ))\n",
    "print(\"Unweighted: \",precision_recall_fscore_support(test_y, prediction3, average = 'macro' ))\n"
   ]
  },
  {
   "cell_type": "code",
   "execution_count": null,
   "metadata": {},
   "outputs": [],
   "source": []
  }
 ],
 "metadata": {
  "hide_input": false,
  "kernelspec": {
   "display_name": "Python 3",
   "language": "python",
   "name": "python3"
  },
  "language_info": {
   "codemirror_mode": {
    "name": "ipython",
    "version": 3
   },
   "file_extension": ".py",
   "mimetype": "text/x-python",
   "name": "python",
   "nbconvert_exporter": "python",
   "pygments_lexer": "ipython3",
   "version": "3.6.8"
  },
  "toc": {
   "base_numbering": 1,
   "nav_menu": {},
   "number_sections": true,
   "sideBar": true,
   "skip_h1_title": false,
   "title_cell": "Table of Contents",
   "title_sidebar": "Contents",
   "toc_cell": false,
   "toc_position": {},
   "toc_section_display": true,
   "toc_window_display": true
  }
 },
 "nbformat": 4,
 "nbformat_minor": 2
}
